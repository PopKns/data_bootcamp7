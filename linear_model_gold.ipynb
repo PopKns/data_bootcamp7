{
  "nbformat": 4,
  "nbformat_minor": 0,
  "metadata": {
    "colab": {
      "provenance": [],
      "authorship_tag": "ABX9TyNwxVQLhOPHG11ZjpWNhtWW",
      "include_colab_link": true
    },
    "kernelspec": {
      "name": "python3",
      "display_name": "Python 3"
    },
    "language_info": {
      "name": "python"
    }
  },
  "cells": [
    {
      "cell_type": "markdown",
      "metadata": {
        "id": "view-in-github",
        "colab_type": "text"
      },
      "source": [
        "<a href=\"https://colab.research.google.com/github/PopKns/data_bootcamp7/blob/main/linear_model_gold.ipynb\" target=\"_parent\"><img src=\"https://colab.research.google.com/assets/colab-badge.svg\" alt=\"Open In Colab\"/></a>"
      ]
    },
    {
      "cell_type": "code",
      "source": [
        "from sklearn.linear_model import LinearRegression\n",
        "from sklearn.model_selection import train_test_split\n",
        "from sklearn.metrics import mean_squared_error, r2_score\n",
        "import numpy as np\n",
        "import pandas as pd"
      ],
      "metadata": {
        "id": "rH5zgbW62p2n"
      },
      "execution_count": 4,
      "outputs": []
    },
    {
      "cell_type": "code",
      "source": [
        "# นำเข้าข้อมูล\n",
        "df = pd.read_csv(\"xauusd_data1.csv\")  # แทนที่ \"ข้อมูล.csv\" ด้วยชื่อไฟล์ข้อมูลของคุณ"
      ],
      "metadata": {
        "id": "tYB_M1_J2sxp"
      },
      "execution_count": 5,
      "outputs": []
    },
    {
      "cell_type": "code",
      "source": [
        "df.columns.tolist()"
      ],
      "metadata": {
        "colab": {
          "base_uri": "https://localhost:8080/"
        },
        "id": "cL6ykDWJ2wry",
        "outputId": "28e08084-8f80-4fe7-da17-c9f628972a5d"
      },
      "execution_count": 6,
      "outputs": [
        {
          "output_type": "execute_result",
          "data": {
            "text/plain": [
              "['datetime',\n",
              " 'symbol',\n",
              " 'open',\n",
              " 'high',\n",
              " 'low',\n",
              " 'close',\n",
              " 'ma10',\n",
              " 'ma10_h',\n",
              " 'ma10_l',\n",
              " 'ma30',\n",
              " 'ma30_h',\n",
              " 'ma30_l',\n",
              " 'ma50',\n",
              " 'ma100',\n",
              " 'ma150',\n",
              " 'ma200',\n",
              " 'rsi14',\n",
              " 'atr14']"
            ]
          },
          "metadata": {},
          "execution_count": 6
        }
      ]
    },
    {
      "cell_type": "code",
      "execution_count": 7,
      "metadata": {
        "colab": {
          "base_uri": "https://localhost:8080/"
        },
        "id": "tN-qcTEw2cJa",
        "outputId": "39960068-1b66-4ce9-e6ea-6803ab4ef351"
      },
      "outputs": [
        {
          "output_type": "stream",
          "name": "stdout",
          "text": [
            "Mean Squared Error (MSE): 37.581998504334614\n",
            "R-squared (R2): 0.9997645653955667\n"
          ]
        }
      ],
      "source": [
        "# แบ่งข้อมูลเป็น features (X) และ target variable (y)\n",
        "features = ['open', 'ma10', 'ma10_h', 'ma10_l', 'ma30', 'ma30_h', 'ma30_l', 'ma50', 'ma100', 'ma150', 'ma200', 'rsi14', 'atr14']\n",
        "target_variables = ['high', 'low', 'close']\n",
        "\n",
        "# สร้าง feature matrix (X) และ target vector (y)\n",
        "X = df[features]\n",
        "y = df[target_variables]\n",
        "\n",
        "# แบ่งข้อมูลเป็นชุดทดสอบและชุดฝึก\n",
        "X_train, X_test, y_train, y_test = train_test_split(X, y, test_size=0.15, random_state=42)\n",
        "\n",
        "# สร้างแบบจำลอง Linear Regression\n",
        "linear_model = LinearRegression()\n",
        "\n",
        "# ฝึกแบบจำลองด้วยชุดฝึก\n",
        "linear_model.fit(X_train, y_train)\n",
        "\n",
        "# ทำนายผลลัพธ์ด้วยชุดทดสอบ\n",
        "predictions_linear = linear_model.predict(X_test)\n",
        "\n",
        "# คำนวณค่าประสิทธิภาพของโมเดล\n",
        "mse = mean_squared_error(y_test, predictions_linear)\n",
        "r2 = r2_score(y_test, predictions_linear)\n",
        "\n",
        "# แสดงผลลัพธ์\n",
        "print(f'Mean Squared Error (MSE): {mse}')\n",
        "print(f'R-squared (R2): {r2}')\n"
      ]
    },
    {
      "cell_type": "code",
      "source": [
        "X_test.info()"
      ],
      "metadata": {
        "colab": {
          "base_uri": "https://localhost:8080/"
        },
        "id": "NfaK7c3M3AkA",
        "outputId": "136c3446-0daf-43a2-ff53-30c50a76dbbd"
      },
      "execution_count": 9,
      "outputs": [
        {
          "output_type": "stream",
          "name": "stdout",
          "text": [
            "<class 'pandas.core.frame.DataFrame'>\n",
            "Int64Index: 720 entries, 596 to 4202\n",
            "Data columns (total 13 columns):\n",
            " #   Column  Non-Null Count  Dtype  \n",
            "---  ------  --------------  -----  \n",
            " 0   open    720 non-null    float64\n",
            " 1   ma10    720 non-null    float64\n",
            " 2   ma10_h  720 non-null    float64\n",
            " 3   ma10_l  720 non-null    float64\n",
            " 4   ma30    720 non-null    float64\n",
            " 5   ma30_h  720 non-null    float64\n",
            " 6   ma30_l  720 non-null    float64\n",
            " 7   ma50    720 non-null    float64\n",
            " 8   ma100   720 non-null    float64\n",
            " 9   ma150   720 non-null    float64\n",
            " 10  ma200   720 non-null    float64\n",
            " 11  rsi14   720 non-null    float64\n",
            " 12  atr14   720 non-null    float64\n",
            "dtypes: float64(13)\n",
            "memory usage: 78.8 KB\n"
          ]
        }
      ]
    },
    {
      "cell_type": "code",
      "source": [
        "###############################################"
      ],
      "metadata": {
        "id": "rNVLe_8X3FwM"
      },
      "execution_count": null,
      "outputs": []
    },
    {
      "cell_type": "code",
      "source": [
        "df.iloc[-1 ]"
      ],
      "metadata": {
        "colab": {
          "base_uri": "https://localhost:8080/"
        },
        "id": "A92f3kCu49MD",
        "outputId": "ee5b59b0-aca2-4eaf-f009-26a352ff96d3"
      },
      "execution_count": 16,
      "outputs": [
        {
          "output_type": "execute_result",
          "data": {
            "text/plain": [
              "datetime    03-03-24 22:00\n",
              "symbol        OANDA:XAUUSD\n",
              "open               2082.73\n",
              "high              2119.975\n",
              "low                2079.53\n",
              "close             2114.365\n",
              "ma10           2053.264795\n",
              "ma10_h         2059.813151\n",
              "ma10_l         2033.579307\n",
              "ma30           2035.934969\n",
              "ma30_h         2044.835515\n",
              "ma30_l         2022.174328\n",
              "ma50           2029.178434\n",
              "ma100          2009.969018\n",
              "ma150          1992.691446\n",
              "ma200          1977.295948\n",
              "rsi14            76.317339\n",
              "atr14            22.741326\n",
              "Name: 4799, dtype: object"
            ]
          },
          "metadata": {},
          "execution_count": 16
        }
      ]
    },
    {
      "cell_type": "code",
      "source": [
        "df.iloc[-1 ].info()"
      ],
      "metadata": {
        "colab": {
          "base_uri": "https://localhost:8080/"
        },
        "id": "RS6YeCLK3NaE",
        "outputId": "b178024e-7658-4b83-cc38-af9b24e3fb51"
      },
      "execution_count": 11,
      "outputs": [
        {
          "output_type": "stream",
          "name": "stdout",
          "text": [
            "<class 'pandas.core.series.Series'>\n",
            "Index: 18 entries, datetime to atr14\n",
            "Series name: 4799\n",
            "Non-Null Count  Dtype \n",
            "--------------  ----- \n",
            "18 non-null     object\n",
            "dtypes: object(1)\n",
            "memory usage: 844.0+ bytes\n"
          ]
        }
      ]
    },
    {
      "cell_type": "code",
      "source": [
        "# ดึงข้อมูลในแถวสุดท้ายของ DataFrame\n",
        "last_row = df.iloc[-1, [2] + list(range(6, df.shape[1]))]\n",
        "# แทนที่ราคาปิดไปที่ราคาเปิด\n",
        "last_row['open'] = df.iloc[-1, df.columns.get_loc('close')]\n",
        "\n",
        "# แปลงประเภทข้อมูลในแถวนั้นให้เป็นประเภทที่ต้องการ (ตัวอย่างเปลี่ยนเป็น float64)\n",
        "last_row = last_row.astype('float64')\n",
        "\n",
        "# ทดสอบโมเดลด้วยข้อมูลในแถวนี้\n",
        "predictions_last_row = linear_model.predict(last_row.values.reshape(1, -1))\n",
        "\n",
        "# ดึงค่าที่ทำนายมา\n",
        "predicted_high_last_row = predictions_last_row[0, 0]  # ค่า 'high'\n",
        "predicted_low_last_row = predictions_last_row[0, 1]   # ค่า 'low'\n",
        "predicted_close_last_row = predictions_last_row[0, 2]  # ค่า 'close'\n",
        "\n",
        "# แสดงผลลัพธ์\n",
        "print(f'Predicted High (Random Forest): {predicted_high_last_row}')\n",
        "print(f'Predicted Low (Random Forest): {predicted_low_last_row}')\n",
        "print(f'Predicted Close (Random Forest): {predicted_close_last_row}')\n"
      ],
      "metadata": {
        "colab": {
          "base_uri": "https://localhost:8080/"
        },
        "id": "e-bwFNMd4Ic3",
        "outputId": "a8fe6b74-2249-4670-9835-5235ac760d6f"
      },
      "execution_count": 14,
      "outputs": [
        {
          "output_type": "stream",
          "name": "stdout",
          "text": [
            "Predicted High (Random Forest): 2131.606745856663\n",
            "Predicted Low (Random Forest): 2093.020254672374\n",
            "Predicted Close (Random Forest): 2112.990462432379\n"
          ]
        },
        {
          "output_type": "stream",
          "name": "stderr",
          "text": [
            "/usr/local/lib/python3.10/dist-packages/sklearn/base.py:439: UserWarning: X does not have valid feature names, but LinearRegression was fitted with feature names\n",
            "  warnings.warn(\n"
          ]
        }
      ]
    },
    {
      "cell_type": "code",
      "source": [
        "print(last_row)"
      ],
      "metadata": {
        "colab": {
          "base_uri": "https://localhost:8080/"
        },
        "id": "52zeE7lG4zBd",
        "outputId": "1f3bc14b-b9b2-447e-cfa2-82abd65a75f5"
      },
      "execution_count": 15,
      "outputs": [
        {
          "output_type": "stream",
          "name": "stdout",
          "text": [
            "open      2114.365000\n",
            "ma10      2053.264795\n",
            "ma10_h    2059.813151\n",
            "ma10_l    2033.579307\n",
            "ma30      2035.934969\n",
            "ma30_h    2044.835515\n",
            "ma30_l    2022.174328\n",
            "ma50      2029.178434\n",
            "ma100     2009.969018\n",
            "ma150     1992.691446\n",
            "ma200     1977.295948\n",
            "rsi14       76.317339\n",
            "atr14       22.741326\n",
            "Name: 4799, dtype: float64\n"
          ]
        }
      ]
    }
  ]
}